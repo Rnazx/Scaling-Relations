{
 "cells": [
  {
   "cell_type": "markdown",
   "metadata": {},
   "source": [
    "### Import dependencies"
   ]
  },
  {
   "cell_type": "code",
   "execution_count": 1,
   "metadata": {},
   "outputs": [],
   "source": [
    "import numpy as np\n",
    "import matplotlib.pyplot as plt\n",
    "from sympy import *\n",
    "from fractions import Fraction\n",
    "from ipywidgets import interact, interactive\n",
    "from model_generator import model_gen"
   ]
  },
  {
   "cell_type": "markdown",
   "metadata": {},
   "source": [
    "### Define Symbols involved\n",
    "We need these symbols to substitute the physical constants' values into the final expressions."
   ]
  },
  {
   "cell_type": "code",
   "execution_count": 2,
   "metadata": {},
   "outputs": [],
   "source": [
    "q = Symbol('q')\n",
    "omega = Symbol('\\Omega')\n",
    "sigma = Symbol('\\Sigma')\n",
    "sigmatot = Symbol('Sigma_tot')\n",
    "sigmasfr = Symbol('Sigma_SFR')\n",
    "T = Symbol('T')\n",
    "\n",
    "\n",
    "# Defining the Constants\n",
    "calpha = Symbol('C_alpha')\n",
    "gamma = Symbol('gamma')\n",
    "boltz = Symbol('k_B')\n",
    "mu = Symbol('mu')\n",
    "mu0 = Symbol('Mu_0')\n",
    "mh = Symbol('m_H')\n",
    "G = Symbol('G')\n",
    "xio = Symbol('xi_0')\n",
    "delta = Symbol('\\delta')\n",
    "mstar = Symbol('m_*')\n",
    "cl = Symbol('C_l')\n",
    "kappa = Symbol('kappa')\n",
    "mach = Symbol('M')\n",
    "E51 = Symbol('E_51')\n",
    "Rk = Symbol('R_k')\n",
    "psi = Symbol('psi')\n",
    "kalpha = Symbol('K_alpha')\n",
    "bet = Symbol('beta')\n",
    "alphak = Symbol('alpha_k')\n",
    "Gamma = Symbol('Gamma')"
   ]
  },
  {
   "cell_type": "markdown",
   "metadata": {},
   "source": [
    "### Constants involved"
   ]
  },
  {
   "cell_type": "code",
   "execution_count": 3,
   "metadata": {},
   "outputs": [],
   "source": [
    "g_Msun = 1.989e33  # solar mass in g\n",
    "cgs_G = 6.674e-8  # gravitational constant in cgs units\n",
    "g_mH = 1.6736e-24  # mass of hydrogen atom in grams\n",
    "cgs_kB = 1.3807e-16  # boltzmann constant in cgs units\n",
    "\n",
    "# Reading the Constant values\n",
    "gval, clval, xioval, mstarval, deltaval, e51val, kaval, Gammaval, Caval, Rkval, muval, mu0val, g_Msun, cgs_G, g_mH, cgs_kB = tuple(\n",
    "    np.genfromtxt('constants.in', delimiter='=', dtype=np.float64)[:, -1])\n",
    "\n",
    "# List of tuples for substituting the values in the symbol. \n",
    "# The firt element of each tuple is the symbol for which the value needs to be substituted\n",
    "# The second element is the numerical value which is stored in constants.in file\n",
    "const = [(boltz, cgs_kB), (mh, g_mH), (G, cgs_G), (gamma, gval),\n",
    "         (calpha, Caval), (Rk, Rkval), (mu, muval), (cl,\n",
    "                                               clval), (xio, xioval), (mstar, mstarval*g_Msun),\n",
    "         (delta, deltaval), (E51, e51val), (kalpha, kaval), (Gamma, Gammaval), (mu0, mu0val)]"
   ]
  },
  {
   "cell_type": "markdown",
   "metadata": {},
   "source": [
    "### Choose the model"
   ]
  },
  {
   "cell_type": "code",
   "execution_count": 4,
   "metadata": {},
   "outputs": [],
   "source": [
    "import io\n",
    "def scal_plotter(quantities, idx):\n",
    "    s = quantity_string[idx]\n",
    "    variables = [(sigmatot, 1), (sigma, 1), (sigmasfr, 1),\n",
    "                (omega, 1), (q, 1), (T, 1)]\n",
    "    # quantity to be plotted\n",
    "    final_quantity = quantities[idx]\n",
    "    # observable to be varied\n",
    "    observ = [variables[i][0] for i in range(len(variables))]\n",
    "    var = np.linspace(1, 1000, 5000)\n",
    "    # plotting the scaling relations\n",
    "    plt.figure(figsize=(8, 8))\n",
    "    power = []\n",
    "    for obs in observ:\n",
    "        variables = [(sigmatot, 1), (sigma, 1), (sigmasfr, 1),\n",
    "                    (omega, 1), (q, 1), (T, 1)]\n",
    "        variables.remove((obs, 1))\n",
    "        final = const + variables\n",
    "        z = final_quantity.subs(final)\n",
    "        zf = [z.evalf(subs={obs: i}) for i in var]\n",
    "        zf = np.array(np.float64(zf))\n",
    "        if idx == 7:\n",
    "            zf = -zf\n",
    "        po = str(np.round(np.float64((diff(log(z), obs)*obs).subs(obs, 1)), 2))\n",
    "        power.append(float(po))\n",
    "        plt.plot(np.log(var), np.log(zf), label='$' +\n",
    "                str(latex(obs))+'$,  slope = '+po)\n",
    "    plt.title('Variation of $'+s+'$ with observables')\n",
    "    plt.xlabel('$log(Observable)$')\n",
    "    plt.ylabel('$log('+s+')$')\n",
    "    plt.grid(True, which=\"both\", ls=\"--\")\n",
    "    plt.legend()\n",
    "    \n",
    "    buffer = io.BytesIO()\n",
    "    plt.savefig(buffer, format='png', dpi=300)\n",
    "    buffer.seek(0)\n",
    "\n",
    "    plt.close()\n",
    "    return buffer.getvalue()"
   ]
  },
  {
   "cell_type": "code",
   "execution_count": 5,
   "metadata": {},
   "outputs": [
    {
     "data": {
      "application/vnd.jupyter.widget-view+json": {
       "model_id": "a5b9eeca7f1d4e80b980a77fb1ba610f",
       "version_major": 2,
       "version_minor": 0
      },
      "text/plain": [
       "HBox(children=(Button(description='Model 1', style=ButtonStyle()),), layout=Layout(justify_content='center'))"
      ]
     },
     "metadata": {},
     "output_type": "display_data"
    },
    {
     "data": {
      "application/vnd.jupyter.widget-view+json": {
       "model_id": "5e98655d23904566a775b2812809e197",
       "version_major": 2,
       "version_minor": 0
      },
      "text/plain": [
       "HBox(children=(Button(description='Model 2a', style=ButtonStyle()), Button(description='Model 2b', style=Butto…"
      ]
     },
     "metadata": {},
     "output_type": "display_data"
    },
    {
     "data": {
      "application/vnd.jupyter.widget-view+json": {
       "model_id": "7052265a412a4865ab19d2c9e011bc2a",
       "version_major": 2,
       "version_minor": 0
      },
      "text/plain": [
       "HBox(children=(Button(description='Model 3a', style=ButtonStyle()), Button(description='Model 3b', style=Butto…"
      ]
     },
     "metadata": {},
     "output_type": "display_data"
    },
    {
     "data": {
      "application/vnd.jupyter.widget-view+json": {
       "model_id": "9e1fcbba4f8d40fb9472dd883edeff7b",
       "version_major": 2,
       "version_minor": 0
      },
      "text/plain": [
       "Output(layout=Layout(justify_content='center'))"
      ]
     },
     "metadata": {},
     "output_type": "display_data"
    },
    {
     "data": {
      "application/vnd.jupyter.widget-view+json": {
       "model_id": "e99684bfbabc48dcaa0025924bfbae92",
       "version_major": 2,
       "version_minor": 0
      },
      "text/plain": [
       "Button(description='Reset', style=ButtonStyle())"
      ]
     },
     "metadata": {},
     "output_type": "display_data"
    }
   ],
   "source": [
    "import ipywidgets as widgets\n",
    "from IPython.display import display, clear_output, Latex\n",
    "\n",
    "output = widgets.Output(layout=widgets.Layout(justify_content='center'))\n",
    "quantity_string = ['h', 'l', 'u', 'tau',\n",
    "                   'biso', 'bani', 'Bbar', 'tanpB', 'tanpb']\n",
    "quantity_buttons = [widgets.Button(description=f\"{quants}\") for quants in quantity_string]\n",
    "\n",
    "\n",
    "        #display(box_row1, box_row2, box_row3, output, reset_button)\n",
    "\n",
    "def button_clicked(model_number):\n",
    "    with output:\n",
    "        clear_output(wait=True)\n",
    "        print(f\"                                                         Model {model_number} is selected!\")\n",
    "        print(\"                                          Select the Quatity for which the scaling relation needs to be found\")\n",
    "        model_no = int(model_number[0])\n",
    "        let = model_number[-1]\n",
    "        global box_row4\n",
    "        box_row4 = widgets.HBox(quantity_buttons, layout=widgets.Layout(justify_content='center'))\n",
    "        display(box_row4)\n",
    "\n",
    "        if model_no == 1:\n",
    "            quantities = model_gen(model_no)\n",
    "        else:\n",
    "            quantities = model_gen(model_no, let)\n",
    "\n",
    "        def quant_button(quantity_name):\n",
    "            with output:\n",
    "                print(f\"                                                       Quantity {quantity_name} is selected\")\n",
    "                print(f\"                                          Calculating Scaling relations. Please wait for 30 seconds max\")\n",
    "                idx = quantity_string.index(quantity_name)\n",
    "                image_data = scal_plotter(quantities, idx)\n",
    "                image_widget = widgets.Image(value=image_data, format='png', width=600, height=600,\n",
    "                                             layout=widgets.Layout(justify_content='center'))\n",
    "                centered_image_widget = widgets.VBox(\n",
    "                    [widgets.HBox([widgets.Label(), image_widget, widgets.Label()],\n",
    "                                  layout=widgets.Layout(justify_content='center')),\n",
    "                     widgets.Label()],\n",
    "                    layout=widgets.Layout(justify_content='center'))\n",
    "                display(centered_image_widget)\n",
    "                clear_output(wait=True)\n",
    "        for button in quantity_buttons:\n",
    "            button.on_click(lambda event, button=button: quant_button(str(button.description.split()[-1])))\n",
    "\n",
    "# Create the buttons\n",
    "buttons_row1 = [widgets.Button(description=f\"Model {model_number}\") for model_number in range(1, 2)]\n",
    "buttons_row2 = [widgets.Button(description=f\"Model {model_number}\") for model_number in ['2a', '2b']]\n",
    "buttons_row3 = [widgets.Button(description=f\"Model {model_number}\") for model_number in ['3a', '3b', '3c', '3d']]\n",
    "\n",
    "# Set the click event for each button\n",
    "for button in buttons_row1 + buttons_row2 + buttons_row3:\n",
    "    button.on_click(lambda event, button=button: button_clicked(str(button.description.split()[-1])))\n",
    "\n",
    "# Create widget containers for the buttons and center align them\n",
    "box_row1 = widgets.HBox(buttons_row1, layout=widgets.Layout(justify_content='center'))\n",
    "box_row2 = widgets.HBox(buttons_row2, layout=widgets.Layout(justify_content='center'))\n",
    "box_row3 = widgets.HBox(buttons_row3, layout=widgets.Layout(justify_content='center'))\n",
    "\n",
    "def reset_output():\n",
    "    with output:\n",
    "        clear_output()\n",
    "# Create the Reset button\n",
    "reset_button = widgets.Button(description='Reset')\n",
    "reset_button.on_click(lambda event: reset_output())\n",
    "\n",
    "# Display the buttons and the output widget\n",
    "display(box_row1, box_row2, box_row3, output, reset_button)\n"
   ]
  },
  {
   "cell_type": "code",
   "execution_count": null,
   "metadata": {},
   "outputs": [],
   "source": []
  }
 ],
 "metadata": {
  "kernelspec": {
   "display_name": "Python 3",
   "language": "python",
   "name": "python3"
  },
  "language_info": {
   "codemirror_mode": {
    "name": "ipython",
    "version": 3
   },
   "file_extension": ".py",
   "mimetype": "text/x-python",
   "name": "python",
   "nbconvert_exporter": "python",
   "pygments_lexer": "ipython3",
   "version": "3.7.3"
  },
  "orig_nbformat": 4
 },
 "nbformat": 4,
 "nbformat_minor": 2
}
