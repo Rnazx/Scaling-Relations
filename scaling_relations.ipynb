{
 "cells": [
  {
   "attachments": {},
   "cell_type": "markdown",
   "metadata": {},
   "source": [
    "# Finding the Scaling Relations \n",
    "\n",
    "* This repository consists of two main routines. All the expressions are symbolically evaluated in the [model_generator.py](https://github.com/Rnazx/Scaling-Relations/blob/master/model_generator.py) file using the model_gen function. This function takes in the model number and other regimes described in the manuscript. This function is then used in the [jupyter notebook file](scaling_relations.ipynb) to find the  expression per the chosen regime. \n",
    "\n",
    "* We have seven different regimes as described in the manuscript. (describe all the regimes?)\n",
    "The model number and the letter are automatically chosen from the selection in the widgets. The following are the steps needed to find the scaling relations. The instructions below are given in the order of the blocks of code in the [jupyter notebook file](scaling_relations.ipynb).\n"
   ]
  },
  {
   "attachments": {},
   "cell_type": "markdown",
   "metadata": {},
   "source": [
    "### Import dependencies"
   ]
  },
  {
   "cell_type": "code",
   "execution_count": 1,
   "metadata": {},
   "outputs": [],
   "source": [
    "import numpy as np\n",
    "import matplotlib.pyplot as plt\n",
    "from sympy import *\n",
    "from fractions import Fraction\n",
    "from ipywidgets import interact, interactive"
   ]
  },
  {
   "attachments": {},
   "cell_type": "markdown",
   "metadata": {},
   "source": [
    "### Define Symbols involved\n",
    "We need these symbols to substitute the physical constants' values into the final expressions."
   ]
  },
  {
   "cell_type": "code",
   "execution_count": 2,
   "metadata": {},
   "outputs": [],
   "source": [
    "q = Symbol('q')\n",
    "omega = Symbol('\\Omega')\n",
    "sigma = Symbol('\\Sigma')\n",
    "sigmatot = Symbol('Sigma_tot')\n",
    "sigmasfr = Symbol('Sigma_SFR')\n",
    "T = Symbol('T')\n",
    "\n",
    "\n",
    "# Defining the Constants\n",
    "calpha = Symbol('C_alpha')\n",
    "gamma = Symbol('gamma')\n",
    "boltz = Symbol('k_B')\n",
    "mu = Symbol('mu')\n",
    "mu0 = Symbol('Mu_0')\n",
    "mh = Symbol('m_H')\n",
    "G = Symbol('G')\n",
    "xio = Symbol('xi_0')\n",
    "delta = Symbol('\\delta')\n",
    "mstar = Symbol('m_*')\n",
    "cl = Symbol('C_l')\n",
    "kappa = Symbol('kappa')\n",
    "mach = Symbol('M')\n",
    "E51 = Symbol('E_51')\n",
    "Rk = Symbol('R_k')\n",
    "psi = Symbol('psi')\n",
    "kalpha = Symbol('K_alpha')\n",
    "bet = Symbol('beta')\n",
    "alphak = Symbol('alpha_k')\n",
    "Gamma = Symbol('Gamma')\n",
    "eta = Symbol('eta')\n",
    "Nsb = Symbol('N_sb')"
   ]
  },
  {
   "attachments": {},
   "cell_type": "markdown",
   "metadata": {},
   "source": [
    "### Constants involved"
   ]
  },
  {
   "cell_type": "code",
   "execution_count": 3,
   "metadata": {},
   "outputs": [],
   "source": [
    "g_Msun = 1.989e33  # solar mass in g\n",
    "cgs_G = 6.674e-8  # gravitational constant in cgs units\n",
    "g_mH = 1.6736e-24  # mass of hydrogen atom in grams\n",
    "cgs_kB = 1.3807e-16  # boltzmann constant in cgs units\n",
    "\n",
    "# Reading the Constant values\n",
    "gval, clval, xioval, mstarval, deltaval, e51val, kaval, Gammaval, Caval, Rkval, muval, mu0val, g_Msun, cgs_G, g_mH, cgs_kB = tuple(\n",
    "    np.genfromtxt('constants.in', delimiter='=', dtype=np.float64)[:, -1])\n",
    "\n",
    "# List of tuples for substituting the values in the symbol. \n",
    "# The firt element of each tuple is the symbol for which the value needs to be substituted\n",
    "# The second element is the numerical value which is stored in constants.in file\n",
    "const = [(boltz, cgs_kB), (mh, g_mH), (G, cgs_G), (gamma, gval),\n",
    "         (calpha, Caval), (Rk, Rkval), (mu, muval), (cl,\n",
    "                                               clval), (xio, xioval), (mstar, mstarval*g_Msun),\n",
    "         (delta, deltaval), (E51, e51val), (kalpha, kaval), (Gamma, Gammaval), (mu0, mu0val), (eta, 0.1), (Nsb, 1)]"
   ]
  },
  {
   "attachments": {},
   "cell_type": "markdown",
   "metadata": {},
   "source": [
    "### Choose the model"
   ]
  },
  {
   "cell_type": "code",
   "execution_count": 4,
   "metadata": {},
   "outputs": [
    {
     "data": {
      "application/vnd.jupyter.widget-view+json": {
       "model_id": "6d8213b6b0914b00812a8593bcc57138",
       "version_major": 2,
       "version_minor": 0
      },
      "text/plain": [
       "interactive(children=(Dropdown(description='h', options=('subsonic', 'supersonic', 'cs/omega'), value='subsoni…"
      ]
     },
     "execution_count": 4,
     "metadata": {},
     "output_type": "execute_result"
    }
   ],
   "source": [
    "def myf(h, l, u, t, alpha):\n",
    "    return h, l, u, t, alpha\n",
    "\n",
    "\n",
    "y = interactive(myf, h=[r'subsonic', r'supersonic', r'cs/omega'],\n",
    "                l=[r'maximum scale driven', r'supernovae driven', r'superbubble driven'],\n",
    "                u=[r'sound speed', r'supenovae/superbubble driven'],\n",
    "                t=[r'eddy turnover time', r'supernovae/superbubble renovation time'],\n",
    "                alpha=['regime 1', 'regime 2', 'regime 3'])#regime\n",
    "y"
   ]
  },
  {
   "cell_type": "code",
   "execution_count": 7,
   "metadata": {},
   "outputs": [
    {
     "data": {
      "text/plain": [
       "'supernovae driven'"
      ]
     },
     "execution_count": 7,
     "metadata": {},
     "output_type": "execute_result"
    }
   ],
   "source": [
    "hreg, lreg, ureg, taureg, alphareg = y.result\n",
    "lreg"
   ]
  },
  {
   "cell_type": "code",
   "execution_count": 8,
   "metadata": {},
   "outputs": [],
   "source": [
    "# conversion factors\n",
    "pc_kpc = 1e3  # number of pc in one kpc\n",
    "cm_kpc = 3.086e+21  # number of centimeters in one parsec\n",
    "cm_km = 1e5  # number of cm in one km\n",
    "s_Myr = 1e+6*(365*24*60*60)  # number of seconds in one megayear\n",
    "\n",
    "from model_generator import model_gen, model_gen_regime\n",
    "#quantities = model_gen(model_no, let, not_ren)\n",
    "quantities = model_gen_regime(hreg, lreg, ureg, taureg, alphareg='regime 1')"
   ]
  },
  {
   "attachments": {},
   "cell_type": "markdown",
   "metadata": {},
   "source": [
    " Use [python file](model_generator.py)"
   ]
  },
  {
   "attachments": {},
   "cell_type": "markdown",
   "metadata": {},
   "source": [
    "### Quantity for which the scaling relations are required"
   ]
  },
  {
   "cell_type": "code",
   "execution_count": 9,
   "metadata": {},
   "outputs": [
    {
     "data": {
      "application/vnd.jupyter.widget-view+json": {
       "model_id": "f28eb3d8063c4c4bbcc9d1b8904dfb00",
       "version_major": 2,
       "version_minor": 0
      },
      "text/plain": [
       "interactive(children=(Dropdown(description='quantity', options=('h', 'l', 'u', 'tau', 'biso', 'bani', 'Bbar', …"
      ]
     },
     "execution_count": 9,
     "metadata": {},
     "output_type": "execute_result"
    }
   ],
   "source": [
    "def myfunc(quantity):\n",
    "    return quantity\n",
    "\n",
    "quantity_string = ['h', 'l', 'u', 'tau',\n",
    "                   'biso', 'bani', 'Bbar', 'tanpB', 'tanpb']\n",
    "quan_interact = interactive(myfunc, quantity=quantity_string)\n",
    "quan_interact"
   ]
  },
  {
   "cell_type": "code",
   "execution_count": 10,
   "metadata": {},
   "outputs": [
    {
     "data": {
      "text/latex": [
       "$\\displaystyle 3.56398749991382 \\cdot 10^{-83} \\pi^{0.276699029126214} \\xi_{0}^{0.5} \\sqrt{\\frac{T \\Omega \\Sigma \\gamma k_{B} m_{*} q \\left(\\frac{\\Sigma}{m_{H} \\mu \\left(\\frac{\\left(\\frac{C_{l} E_{51}^{\\frac{64}{51}} \\Sigma_{SFR} \\delta \\sqrt[3]{\\frac{T \\gamma k_{B}}{m_{H} \\mu}} \\left(\\Gamma - 1\\right)}{\\Gamma m_{*} \\left(\\frac{\\Sigma}{m_{H} \\mu}\\right)^{\\frac{76}{51}}}\\right)^{\\frac{2}{3}}}{G \\Sigma_{tot}}\\right)^{1.48543689320388}}\\right)^{\\frac{19}{17}} \\sqrt{\\frac{T \\gamma k_{B}}{m_{H} \\mu}}}{E_{51}^{\\frac{16}{17}} \\Sigma_{SFR} \\delta m_{H} \\mu}}$"
      ],
      "text/plain": [
       "3.56398749991382e-83*pi**0.276699029126214*xi_0**0.5*sqrt(T*\\Omega*\\Sigma*gamma*k_B*m_**q*(\\Sigma/(m_H*mu*((C_l*E_51**(64/51)*Sigma_SFR*\\delta*(T*gamma*k_B/(m_H*mu))**(1/3)*(Gamma - 1)/(Gamma*m_**(\\Sigma/(m_H*mu))**(76/51)))**(2/3)/(G*Sigma_tot))**1.48543689320388))**(19/17)*sqrt(T*gamma*k_B/(m_H*mu))/(E_51**(16/17)*Sigma_SFR*\\delta*m_H*mu))"
      ]
     },
     "execution_count": 10,
     "metadata": {},
     "output_type": "execute_result"
    }
   ],
   "source": [
    "idx = quantity_string.index(quan_interact.result)\n",
    "quantities[idx]"
   ]
  },
  {
   "cell_type": "code",
   "execution_count": 11,
   "metadata": {},
   "outputs": [
    {
     "data": {
      "text/latex": [
       "$\\displaystyle 1.88349514563107$"
      ],
      "text/plain": [
       "1.88349514563107"
      ]
     },
     "execution_count": 11,
     "metadata": {},
     "output_type": "execute_result"
    }
   ],
   "source": [
    "final_quantity = quantities[idx]\n",
    "variables = [(sigmatot, 1), (sigma, 1), (sigmasfr, 1),\n",
    "             (omega, 1), (q, 1), (T, 1)]\n",
    "obs = sigma\n",
    "variables.remove((obs, 1))\n",
    "(diff(log(final_quantity.subs(const+variables)),obs)*obs).subs(obs,1)"
   ]
  },
  {
   "attachments": {},
   "cell_type": "markdown",
   "metadata": {},
   "source": [
    "### Find and plot the scaling relations"
   ]
  },
  {
   "cell_type": "code",
   "execution_count": 12,
   "metadata": {},
   "outputs": [
    {
     "name": "stdout",
     "output_type": "stream",
     "text": [
      "The scaling relation is \n"
     ]
    },
    {
     "data": {
      "text/latex": [
       "$\\displaystyle \\frac{\\Sigma_{tot}^{0.83} T^{0.57} \\Omega^{0.5} \\Sigma^{1.88} q^{0.5}}{\\Sigma_{SFR}^{1.05}}$"
      ],
      "text/plain": [
       "Sigma_tot**0.83*T**0.57*\\Omega**0.5*\\Sigma**1.88*q**0.5/Sigma_SFR**1.05"
      ]
     },
     "execution_count": 12,
     "metadata": {},
     "output_type": "execute_result"
    },
    {
     "data": {
      "image/png": "[encoded data removed]",
      "text/plain": [
       "<Figure size 576x576 with 1 Axes>"
      ]
     },
     "metadata": {
      "needs_background": "light"
     },
     "output_type": "display_data"
    }
   ],
   "source": [
    "s = quantity_string[idx]\n",
    "variables = [(sigmatot, 1), (sigma, 1), (sigmasfr, 1),\n",
    "             (omega, 1), (q, 1), (T, 1)]\n",
    "# quantity to be plotted\n",
    "final_quantity = quantities[idx]\n",
    "# observable to be varied\n",
    "observ = [variables[i][0] for i in range(len(variables))]\n",
    "var = np.linspace(1, 1000, 5000)\n",
    "# plotting the scaling relations\n",
    "plt.figure(figsize=(8, 8))\n",
    "power = []\n",
    "for obs in observ:\n",
    "    variables = [(sigmatot, 1), (sigma, 1), (sigmasfr, 1),\n",
    "                 (omega, 1), (q, 1), (T, 1)]\n",
    "    variables.remove((obs, 1))\n",
    "    final = const + variables\n",
    "    z = final_quantity.subs(final)\n",
    "    zf = [z.evalf(subs={obs: i}) for i in var]\n",
    "    zf = np.array(np.float64(zf))\n",
    "    if idx == 7:\n",
    "        zf = -zf\n",
    "    po = str(np.round(np.float64((diff(log(z), obs)*obs).subs(obs, 1)), 2))\n",
    "    power.append(float(po))\n",
    "    plt.plot(np.log(var), np.log(zf), label='$' +\n",
    "             str(latex(obs))+'$,  slope = '+po)\n",
    "plt.title('Variation of $'+s+'$ with observables')\n",
    "plt.xlabel('$log(Observable)$')\n",
    "plt.ylabel('$log('+s+')$')\n",
    "plt.grid(True, which=\"both\", ls=\"--\")\n",
    "plt.legend()\n",
    "\n",
    "scaling = np.power(observ, power)\n",
    "relation = 1\n",
    "for i in scaling:\n",
    "    relation *= i\n",
    "\n",
    "print('The scaling relation is ')\n",
    "relation\n",
    "# plt.savefig('scal'+s+str(model_no)+let+'.png')"
   ]
  },
  {
   "cell_type": "markdown",
   "metadata": {},
   "source": [
    "### Converting the regimes to model number and letter according to the paper"
   ]
  },
  {
   "cell_type": "code",
   "execution_count": 13,
   "metadata": {},
   "outputs": [],
   "source": [
    "\n",
    "let = 'a'\n",
    "not_ren = True\n",
    "if lreg == 'maximum scale driven':\n",
    "    if ureg == 'sound speed':\n",
    "        model_no = 1\n",
    "    else:\n",
    "        model_no = 2\n",
    "elif ureg != 'sound speed':\n",
    "    if hreg == 'cs/omega':\n",
    "        model_no = 4\n",
    "    else:\n",
    "        model_no = 3\n",
    "else:\n",
    "    print('Supernovae correlation length cannot have sound speed as the correlation velocity')\n",
    "\n",
    "try:\n",
    "    if model_no != 1:\n",
    "        if hreg == 'subsonic':\n",
    "            let = 'a'\n",
    "        elif hreg == 'supersonic':\n",
    "            let = 'b'\n",
    "    else:\n",
    "        print('Subsonic or supersonic regime not applicable for this model.')\n",
    "    if [3, 4].count(model_no) > 0:\n",
    "        if taureg == 'eddy turnover time':\n",
    "            not_ren = True\n",
    "        else:\n",
    "            not_ren = False\n",
    "            if let == 'a': let = 'c'\n",
    "            else : let = 'd'\n",
    "    else:\n",
    "        print('Supernova renovation time not applicable for this model')\n",
    "except NameError:\n",
    "    print('******************************************************************************')\n",
    "    print('Change the model combination')\n",
    "    print('******************************************************************************')\n"
   ]
  },
  {
   "cell_type": "markdown",
   "metadata": {},
   "source": [
    "### Displaying the model number and letter"
   ]
  },
  {
   "cell_type": "code",
   "execution_count": 14,
   "metadata": {},
   "outputs": [
    {
     "data": {
      "text/plain": [
       "(3, 'd')"
      ]
     },
     "execution_count": 14,
     "metadata": {},
     "output_type": "execute_result"
    }
   ],
   "source": [
    "model_no, let"
   ]
  }
 ],
 "metadata": {
  "kernelspec": {
   "display_name": "Python 3",
   "language": "python",
   "name": "python3"
  },
  "language_info": {
   "codemirror_mode": {
    "name": "ipython",
    "version": 3
   },
   "file_extension": ".py",
   "mimetype": "text/x-python",
   "name": "python",
   "nbconvert_exporter": "python",
   "pygments_lexer": "ipython3",
   "version": "3.7.3"
  },
  "orig_nbformat": 4
 },
 "nbformat": 4,
 "nbformat_minor": 2
}
