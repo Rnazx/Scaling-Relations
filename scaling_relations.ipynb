{
 "cells": [
  {
   "attachments": {},
   "cell_type": "markdown",
   "metadata": {},
   "source": [
    "# Finding the Scaling Relations "
   ]
  },
  {
   "attachments": {},
   "cell_type": "markdown",
   "metadata": {},
   "source": [
    "### Import dependencies"
   ]
  },
  {
   "cell_type": "code",
   "execution_count": 1,
   "metadata": {},
   "outputs": [],
   "source": [
    "import numpy as np\n",
    "import matplotlib.pyplot as plt\n",
    "from sympy import *\n",
    "from fractions import Fraction\n",
    "import pickle\n",
    "import os\n",
    "from ipywidgets import interact, interactive"
   ]
  },
  {
   "attachments": {},
   "cell_type": "markdown",
   "metadata": {},
   "source": [
    "### Define Symbols involved"
   ]
  },
  {
   "cell_type": "code",
   "execution_count": 2,
   "metadata": {},
   "outputs": [],
   "source": [
    "q = Symbol('q')\n",
    "omega = Symbol('\\Omega')\n",
    "sigma = Symbol('\\Sigma')\n",
    "sigmatot = Symbol('Sigma_tot')\n",
    "sigmasfr = Symbol('Sigma_SFR')\n",
    "T = Symbol('T')\n",
    "\n",
    "\n",
    "# Defining the Constants\n",
    "calpha = Symbol('C_alpha')\n",
    "gamma = Symbol('gamma')\n",
    "boltz = Symbol('k_B')\n",
    "mu = Symbol('mu')\n",
    "mu0 = Symbol('Mu_0')\n",
    "mh = Symbol('m_H')\n",
    "G = Symbol('G')\n",
    "xio = Symbol('xi_0')\n",
    "delta = Symbol('\\delta')\n",
    "mstar = Symbol('m_*')\n",
    "cl = Symbol('C_l')\n",
    "kappa = Symbol('kappa')\n",
    "mach = Symbol('M')\n",
    "E51 = Symbol('E_51')\n",
    "Rk = Symbol('R_k')\n",
    "psi = Symbol('psi')\n",
    "kalpha = Symbol('K_alpha')\n",
    "bet = Symbol('beta')\n",
    "alphak = Symbol('alpha_k')\n",
    "Gamma = Symbol('Gamma')"
   ]
  },
  {
   "attachments": {},
   "cell_type": "markdown",
   "metadata": {},
   "source": [
    "### Constants involved"
   ]
  },
  {
   "cell_type": "code",
   "execution_count": 3,
   "metadata": {},
   "outputs": [],
   "source": [
    "g_Msun = 1.989e33  # solar mass in g\n",
    "cgs_G = 6.674e-8  # gravitational constant in cgs units\n",
    "g_mH = 1.6736e-24  # mass of hydrogen atom in grams\n",
    "cgs_kB = 1.3807e-16  # boltzmann constant in cgs units\n",
    "\n",
    "# Reading the Constant values\n",
    "gval, clval, xioval, mstarval, deltaval, e51val, kaval, Gammaval = tuple(\n",
    "    np.genfromtxt('constants.in', delimiter='=', dtype=np.float64)[:, -1])\n",
    "\n",
    "# List of tuples for substituting the values in the symbol\n",
    "const = [(boltz, cgs_kB), (mh, g_mH), (G, cgs_G), (gamma, gval),\n",
    "         (calpha, 1), (Rk, 0.3), (mu, 14/11), (cl,\n",
    "                                               clval), (xio, xioval), (mstar, mstarval*g_Msun),\n",
    "         (delta, deltaval), (E51, e51val), (kalpha, kaval), (Gamma, Gammaval), (mu0, 1)]"
   ]
  },
  {
   "attachments": {},
   "cell_type": "markdown",
   "metadata": {},
   "source": [
    "### Choose the model"
   ]
  },
  {
   "cell_type": "code",
   "execution_count": 4,
   "metadata": {},
   "outputs": [
    {
     "data": {
      "application/vnd.jupyter.widget-view+json": {
       "model_id": "be18e83cac2a43f3a094bff966309e96",
       "version_major": 2,
       "version_minor": 0
      },
      "text/plain": [
       "interactive(children=(Dropdown(description='h', options=('subsonic', 'supersonic', 'cs/omega'), value='subsoni…"
      ]
     },
     "execution_count": 4,
     "metadata": {},
     "output_type": "execute_result"
    }
   ],
   "source": [
    "def myf(h, l, u, t, alpha):\n",
    "    return h, l, u, t, alpha\n",
    "\n",
    "\n",
    "y = interactive(myf, h=[r'subsonic', r'supersonic', r'cs/omega'],\n",
    "                l=[r'maximum scale driven', r'supernovae driven'],\n",
    "                u=[r'sound speed', r'supenovae driven'],\n",
    "                t=[r'eddy turnover time', r'supernovae renovation time'],\n",
    "                alpha=['1', '2', '3'])\n",
    "y"
   ]
  },
  {
   "attachments": {},
   "cell_type": "markdown",
   "metadata": {},
   "source": [
    "### Converting the regimes to model number and letter according to the paper"
   ]
  },
  {
   "cell_type": "code",
   "execution_count": 10,
   "metadata": {},
   "outputs": [
    {
     "name": "stdout",
     "output_type": "stream",
     "text": [
      "Subsonic or supersonic regime not applicable for this model.\n",
      "Supernova renovation time not applicable for this model\n"
     ]
    }
   ],
   "source": [
    "hreg, lreg, ureg, taureg, alphareg = y.result\n",
    "let = 'a'\n",
    "not_ren = True\n",
    "if lreg == 'maximum scale driven':\n",
    "    if ureg == 'sound speed':\n",
    "        model_no = 1\n",
    "    else:\n",
    "        model_no = 2\n",
    "elif ureg != 'sound speed':\n",
    "    if hreg == 'cs/omega':\n",
    "        model_no = 4\n",
    "    else:\n",
    "        model_no = 3\n",
    "else:\n",
    "    print('Supernovae correlation length cannot have sound speed as the correlation velocity')\n",
    "\n",
    "try:\n",
    "    if model_no != 1:\n",
    "        if hreg == 'subsonic':\n",
    "            let = 'a'\n",
    "        elif hreg == 'supersonic':\n",
    "            let = 'b'\n",
    "    else:\n",
    "        print('Subsonic or supersonic regime not applicable for this model.')\n",
    "    if [3, 4].count(model_no) > 0:\n",
    "        if taureg == 'eddy turnover time':\n",
    "            not_ren = True\n",
    "        else:\n",
    "            not_ren = False\n",
    "    else:\n",
    "        print('Supernova renovation time not applicable for this model')\n",
    "except NameError:\n",
    "    print('******************************************************************************')\n",
    "    print('Change the model combination')\n",
    "    print('******************************************************************************')\n",
    "\n",
    "\n",
    "alphareg = int(alphareg)"
   ]
  },
  {
   "attachments": {},
   "cell_type": "markdown",
   "metadata": {},
   "source": [
    "### Displaying the model number and letter"
   ]
  },
  {
   "cell_type": "code",
   "execution_count": 11,
   "metadata": {},
   "outputs": [
    {
     "data": {
      "text/plain": [
       "(1, 'a')"
      ]
     },
     "execution_count": 11,
     "metadata": {},
     "output_type": "execute_result"
    }
   ],
   "source": [
    "model_no, let"
   ]
  },
  {
   "cell_type": "code",
   "execution_count": 12,
   "metadata": {},
   "outputs": [],
   "source": [
    "from model_generator import model_gen\n",
    "quantities = model_gen(model_no, let, not_ren, alphareg)"
   ]
  },
  {
   "cell_type": "code",
   "execution_count": 13,
   "metadata": {},
   "outputs": [
    {
     "data": {
      "application/vnd.jupyter.widget-view+json": {
       "model_id": "b174ab1c39fa4230915219428a8695ea",
       "version_major": 2,
       "version_minor": 0
      },
      "text/plain": [
       "interactive(children=(Dropdown(description='quantity', options=('h', 'l', 'u', 'tau', 'biso', 'bani', 'Bbar', …"
      ]
     },
     "execution_count": 13,
     "metadata": {},
     "output_type": "execute_result"
    }
   ],
   "source": [
    "def myfunc(quantity):\n",
    "    return quantity\n",
    "\n",
    "quantity_string = ['h', 'l', 'u', 'tau',\n",
    "                   'biso', 'bani', 'Bbar', 'tanpB', 'tanpb']\n",
    "z = interactive(myfunc, quantity=quantity_string)\n",
    "z"
   ]
  },
  {
   "cell_type": "code",
   "execution_count": 14,
   "metadata": {},
   "outputs": [
    {
     "data": {
      "text/latex": [
       "$\\displaystyle \\frac{M_{0}^{2} T \\gamma k_{B}}{3 \\pi G \\Sigma_{tot} m_{H} \\mu}$"
      ],
      "text/plain": [
       "Mu_0**2*T*gamma*k_B/(3*pi*G*Sigma_tot*m_H*mu)"
      ]
     },
     "execution_count": 14,
     "metadata": {},
     "output_type": "execute_result"
    }
   ],
   "source": [
    "idx = quantity_string.index(z.result)\n",
    "quantities[idx]"
   ]
  },
  {
   "attachments": {},
   "cell_type": "markdown",
   "metadata": {},
   "source": [
    "### Find and plot the scaling relations"
   ]
  },
  {
   "cell_type": "code",
   "execution_count": 16,
   "metadata": {},
   "outputs": [
    {
     "data": {
      "text/plain": [
       "<matplotlib.legend.Legend at 0x1060ef30>"
      ]
     },
     "execution_count": 16,
     "metadata": {},
     "output_type": "execute_result"
    },
    {
     "data": {
      "image/png": "[encoded data removed]",
      "text/plain": [
       "<Figure size 576x576 with 1 Axes>"
      ]
     },
     "metadata": {
      "needs_background": "light"
     },
     "output_type": "display_data"
    }
   ],
   "source": [
    "s = quantity_string[idx]\n",
    "variables = [(sigmatot, 1), (sigma, 1), (sigmasfr, 1),\n",
    "             (omega, 1), (q, 1), (T, 1)]\n",
    "# quantity to be plotted\n",
    "final_quantity = quantities[idx]\n",
    "# observable to be varied\n",
    "observ = [variables[i][0] for i in range(len(variables))]\n",
    "var = np.linspace(1, 1000, 5000)\n",
    "# plotting the scaling relations\n",
    "plt.figure(figsize=(8, 8))\n",
    "for obs in observ:\n",
    "    variables = [(sigmatot, 1), (sigma, 1), (sigmasfr, 1),\n",
    "                 (omega, 1), (q, 1), (T, 1)]\n",
    "    variables.remove((obs, 1))\n",
    "    final = const + variables\n",
    "    z = final_quantity.subs(final)\n",
    "    zf = [z.evalf(subs={obs: i}) for i in var]\n",
    "    zf = np.array(np.float64(zf))\n",
    "    if idx == 7:\n",
    "        zf = -zf\n",
    "    po = str(np.round(np.float64(diff(log(z), obs)*obs), 2))\n",
    "    plt.plot(np.log(var), np.log(zf), label='$' +\n",
    "             str(latex(obs))+'$,  slope = '+po)\n",
    "plt.title('Variation of $'+s+'$ with observables')\n",
    "plt.xlabel('$log(Observable)$')\n",
    "plt.ylabel('$log('+s+')$')\n",
    "plt.grid(True, which=\"both\", ls=\"--\")\n",
    "plt.legend()\n",
    "# plt.savefig('scal'+s+str(model_no)+let+'.png')"
   ]
  },
  {
   "cell_type": "code",
   "execution_count": null,
   "metadata": {},
   "outputs": [],
   "source": []
  }
 ],
 "metadata": {
  "kernelspec": {
   "display_name": "Python 3",
   "language": "python",
   "name": "python3"
  },
  "language_info": {
   "codemirror_mode": {
    "name": "ipython",
    "version": 3
   },
   "file_extension": ".py",
   "mimetype": "text/x-python",
   "name": "python",
   "nbconvert_exporter": "python",
   "pygments_lexer": "ipython3",
   "version": "3.7.3"
  },
  "orig_nbformat": 4
 },
 "nbformat": 4,
 "nbformat_minor": 2
}
