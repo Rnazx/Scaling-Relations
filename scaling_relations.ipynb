{
 "cells": [
  {
   "attachments": {},
   "cell_type": "markdown",
   "metadata": {},
   "source": [
    "# Finding the Scaling Relations \n",
    "\n",
    "* This repository consists of two main routines. All the expressions are symbolically evaluated in the [model_generator.py](https://github.com/Rnazx/Scaling-Relations/blob/master/model_generator.py) file using the model_gen function. This function takes in the model number and other regimes described in the manuscript. This function is then used in the [jupyter notebook file](scaling_relations.ipynb) to find the  expression per the chosen regime. \n",
    "\n",
    "* We have seven different regimes as described in the manuscript. (describe all the regimes?)\n",
    "The model number and the letter are automatically chosen from the selection in the widgets. The following are the steps needed to find the scaling relations. The instructions below are given in the order of the blocks of code in the [jupyter notebook file](scaling_relations.ipynb).\n"
   ]
  },
  {
   "attachments": {},
   "cell_type": "markdown",
   "metadata": {},
   "source": [
    "### Import dependencies"
   ]
  },
  {
   "cell_type": "code",
   "execution_count": 1,
   "metadata": {},
   "outputs": [],
   "source": [
    "import numpy as np\n",
    "import matplotlib.pyplot as plt\n",
    "from sympy import *\n",
    "from fractions import Fraction\n",
    "from ipywidgets import interact, interactive"
   ]
  },
  {
   "attachments": {},
   "cell_type": "markdown",
   "metadata": {},
   "source": [
    "### Define Symbols involved\n",
    "We need these symbols to substitute the physical constants' values into the final expressions."
   ]
  },
  {
   "cell_type": "code",
   "execution_count": 2,
   "metadata": {},
   "outputs": [],
   "source": [
    "q = Symbol('q')\n",
    "omega = Symbol('\\Omega')\n",
    "sigma = Symbol('\\Sigma')\n",
    "sigmatot = Symbol('Sigma_tot')\n",
    "sigmasfr = Symbol('Sigma_SFR')\n",
    "T = Symbol('T')\n",
    "\n",
    "\n",
    "# Defining the Constants\n",
    "calpha = Symbol('C_alpha')\n",
    "gamma = Symbol('gamma')\n",
    "boltz = Symbol('k_B')\n",
    "mu = Symbol('mu')\n",
    "mu0 = Symbol('Mu_0')\n",
    "mh = Symbol('m_H')\n",
    "G = Symbol('G')\n",
    "xio = Symbol('xi_0')\n",
    "delta = Symbol('\\delta')\n",
    "mstar = Symbol('m_*')\n",
    "cl = Symbol('C_l')\n",
    "kappa = Symbol('kappa')\n",
    "mach = Symbol('M')\n",
    "E51 = Symbol('E_51')\n",
    "Rk = Symbol('R_k')\n",
    "psi = Symbol('psi')\n",
    "kalpha = Symbol('K_alpha')\n",
    "bet = Symbol('beta')\n",
    "alphak = Symbol('alpha_k')\n",
    "Gamma = Symbol('Gamma')\n",
    "eta = Symbol('eta')\n",
    "Nsb = Symbol('N_sb')"
   ]
  },
  {
   "attachments": {},
   "cell_type": "markdown",
   "metadata": {},
   "source": [
    "### Constants involved"
   ]
  },
  {
   "cell_type": "code",
   "execution_count": 3,
   "metadata": {},
   "outputs": [],
   "source": [
    "g_Msun = 1.989e33  # solar mass in g\n",
    "cgs_G = 6.674e-8  # gravitational constant in cgs units\n",
    "g_mH = 1.6736e-24  # mass of hydrogen atom in grams\n",
    "cgs_kB = 1.3807e-16  # boltzmann constant in cgs units\n",
    "\n",
    "# Reading the Constant values\n",
    "gval, clval, xioval, mstarval, deltaval, e51val, kaval, Gammaval, Caval, Rkval, muval, mu0val, g_Msun, cgs_G, g_mH, cgs_kB = tuple(\n",
    "    np.genfromtxt('constants.in', delimiter='=', dtype=np.float64)[:, -1])\n",
    "\n",
    "# List of tuples for substituting the values in the symbol. \n",
    "# The firt element of each tuple is the symbol for which the value needs to be substituted\n",
    "# The second element is the numerical value which is stored in constants.in file\n",
    "const = [(boltz, cgs_kB), (mh, g_mH), (G, cgs_G), (gamma, gval),\n",
    "         (calpha, Caval), (Rk, Rkval), (mu, muval), (cl,\n",
    "                                               clval), (xio, xioval), (mstar, mstarval*g_Msun),\n",
    "         (delta, deltaval), (E51, e51val), (kalpha, kaval), (Gamma, Gammaval), (mu0, mu0val), (eta, 0.1), (Nsb, 1)]"
   ]
  },
  {
   "attachments": {},
   "cell_type": "markdown",
   "metadata": {},
   "source": [
    "### Choose the model"
   ]
  },
  {
   "cell_type": "code",
   "execution_count": 4,
   "metadata": {},
   "outputs": [
    {
     "data": {
      "application/vnd.jupyter.widget-view+json": {
       "model_id": "f9e7544a37fc4ff081d9f30ba241242c",
       "version_major": 2,
       "version_minor": 0
      },
      "text/plain": [
       "interactive(children=(Dropdown(description='h', options=('subsonic', 'supersonic', 'cs/omega'), value='subsoni…"
      ]
     },
     "execution_count": 4,
     "metadata": {},
     "output_type": "execute_result"
    }
   ],
   "source": [
    "def myf(h, l, u, t, alpha):\n",
    "    return h, l, u, t, alpha\n",
    "\n",
    "\n",
    "y = interactive(myf, h=[r'subsonic', r'supersonic', r'cs/omega'],\n",
    "                l=[r'maximum scale driven', r'supernovae driven', r'superbubble driven'],\n",
    "                u=[r'sound speed', r'supenovae/superbubble driven'],\n",
    "                t=[r'eddy turnover time', r'supernovae/superbubble renovation time'],\n",
    "                alpha=['regime 1', 'regime 2', 'regime 3'])#regime\n",
    "y"
   ]
  },
  {
   "cell_type": "code",
   "execution_count": 7,
   "metadata": {},
   "outputs": [
    {
     "data": {
      "text/plain": [
       "'superbubble driven'"
      ]
     },
     "execution_count": 7,
     "metadata": {},
     "output_type": "execute_result"
    }
   ],
   "source": [
    "hreg, lreg, ureg, taureg, alphareg = y.result\n",
    "lreg"
   ]
  },
  {
   "cell_type": "code",
   "execution_count": 8,
   "metadata": {},
   "outputs": [],
   "source": [
    "# conversion factors\n",
    "pc_kpc = 1e3  # number of pc in one kpc\n",
    "cm_kpc = 3.086e+21  # number of centimeters in one parsec\n",
    "cm_km = 1e5  # number of cm in one km\n",
    "s_Myr = 1e+6*(365*24*60*60)  # number of seconds in one megayear\n",
    "\n",
    "from model_generator import model_gen, model_gen_regime\n",
    "#quantities = model_gen(model_no, let, not_ren)\n",
    "quantities = model_gen_regime(hreg, lreg, ureg, taureg, alphareg='regime 1')"
   ]
  },
  {
   "attachments": {},
   "cell_type": "markdown",
   "metadata": {},
   "source": [
    "### Converting the regimes to model number and letter according to the paper"
   ]
  },
  {
   "cell_type": "code",
   "execution_count": 9,
   "metadata": {},
   "outputs": [],
   "source": [
    "\n",
    "let = 'a'\n",
    "not_ren = True\n",
    "if lreg == 'maximum scale driven':\n",
    "    if ureg == 'sound speed':\n",
    "        model_no = 1\n",
    "    else:\n",
    "        model_no = 2\n",
    "elif ureg != 'sound speed':\n",
    "    if hreg == 'cs/omega':\n",
    "        model_no = 4\n",
    "    else:\n",
    "        model_no = 3\n",
    "else:\n",
    "    print('Supernovae correlation length cannot have sound speed as the correlation velocity')\n",
    "\n",
    "try:\n",
    "    if model_no != 1:\n",
    "        if hreg == 'subsonic':\n",
    "            let = 'a'\n",
    "        elif hreg == 'supersonic':\n",
    "            let = 'b'\n",
    "    else:\n",
    "        print('Subsonic or supersonic regime not applicable for this model.')\n",
    "    if [3, 4].count(model_no) > 0:\n",
    "        if taureg == 'eddy turnover time':\n",
    "            not_ren = True\n",
    "        else:\n",
    "            not_ren = False\n",
    "            if let == 'a': let = 'c'\n",
    "            else : let = 'd'\n",
    "    else:\n",
    "        print('Supernova renovation time not applicable for this model')\n",
    "except NameError:\n",
    "    print('******************************************************************************')\n",
    "    print('Change the model combination')\n",
    "    print('******************************************************************************')\n"
   ]
  },
  {
   "attachments": {},
   "cell_type": "markdown",
   "metadata": {},
   "source": [
    "### Displaying the model number and letter"
   ]
  },
  {
   "cell_type": "code",
   "execution_count": 10,
   "metadata": {},
   "outputs": [
    {
     "data": {
      "text/plain": [
       "(3, 'd')"
      ]
     },
     "execution_count": 10,
     "metadata": {},
     "output_type": "execute_result"
    }
   ],
   "source": [
    "model_no, let"
   ]
  },
  {
   "attachments": {},
   "cell_type": "markdown",
   "metadata": {},
   "source": [
    " Use [python file](model_generator.py)"
   ]
  },
  {
   "attachments": {},
   "cell_type": "markdown",
   "metadata": {},
   "source": [
    "### Quantity for which the scaling relations are required"
   ]
  },
  {
   "cell_type": "code",
   "execution_count": 11,
   "metadata": {},
   "outputs": [
    {
     "data": {
      "application/vnd.jupyter.widget-view+json": {
       "model_id": "59537aaa8a5145ad8e60c01da8f5cbaa",
       "version_major": 2,
       "version_minor": 0
      },
      "text/plain": [
       "interactive(children=(Dropdown(description='quantity', options=('h', 'l', 'u', 'tau', 'biso', 'bani', 'Bbar', …"
      ]
     },
     "execution_count": 11,
     "metadata": {},
     "output_type": "execute_result"
    }
   ],
   "source": [
    "def myfunc(quantity):\n",
    "    return quantity\n",
    "\n",
    "quantity_string = ['h', 'l', 'u', 'tau',\n",
    "                   'biso', 'bani', 'Bbar', 'tanpB', 'tanpb']\n",
    "quan_interact = interactive(myfunc, quantity=quantity_string)\n",
    "quan_interact"
   ]
  },
  {
   "cell_type": "code",
   "execution_count": 12,
   "metadata": {},
   "outputs": [
    {
     "data": {
      "text/latex": [
       "$\\displaystyle 2.03743352495916 \\cdot 10^{-79} \\pi^{0.214285714285714} \\xi_{0}^{0.5} \\sqrt{\\frac{T^{2} \\Omega \\Sigma^{2} \\gamma^{2} k_{B}^{2} m_{*} q}{E_{51} N_{sb} \\Sigma_{SFR} \\delta \\eta m_{H}^{3} \\mu^{3} \\left(\\frac{\\left(\\frac{C_{l} E_{51}^{\\frac{4}{3}} N_{sb}^{\\frac{4}{3}} \\Sigma_{SFR} \\delta \\eta^{\\frac{4}{3}} m_{H} \\mu \\left(\\Gamma - 1\\right)}{\\Gamma \\Sigma m_{*} \\sqrt[3]{\\frac{\\Sigma}{m_{H} \\mu}} \\sqrt[3]{\\frac{T \\gamma k_{B}}{m_{H} \\mu}}}\\right)^{\\frac{2}{3}}}{G \\Sigma_{tot}}\\right)^{1.28571428571429}}}$"
      ],
      "text/plain": [
       "2.03743352495916e-79*pi**0.214285714285714*xi_0**0.5*sqrt(T**2*\\Omega*\\Sigma**2*gamma**2*k_B**2*m_**q/(E_51*N_sb*Sigma_SFR*\\delta*eta*m_H**3*mu**3*((C_l*E_51**(4/3)*N_sb**(4/3)*Sigma_SFR*\\delta*eta**(4/3)*m_H*mu*(Gamma - 1)/(Gamma*\\Sigma*m_**(\\Sigma/(m_H*mu))**(1/3)*(T*gamma*k_B/(m_H*mu))**(1/3)))**(2/3)/(G*Sigma_tot))**1.28571428571429))"
      ]
     },
     "execution_count": 12,
     "metadata": {},
     "output_type": "execute_result"
    }
   ],
   "source": [
    "idx = quantity_string.index(quan_interact.result)\n",
    "quantities[idx]"
   ]
  },
  {
   "cell_type": "code",
   "execution_count": 13,
   "metadata": {},
   "outputs": [
    {
     "data": {
      "text/latex": [
       "$\\displaystyle 1.57142857142857$"
      ],
      "text/plain": [
       "1.57142857142857"
      ]
     },
     "execution_count": 13,
     "metadata": {},
     "output_type": "execute_result"
    }
   ],
   "source": [
    "final_quantity = quantities[idx]\n",
    "variables = [(sigmatot, 1), (sigma, 1), (sigmasfr, 1),\n",
    "             (omega, 1), (q, 1), (T, 1)]\n",
    "obs = sigma\n",
    "variables.remove((obs, 1))\n",
    "(diff(log(final_quantity.subs(const+variables)),obs)*obs).subs(obs,1)"
   ]
  },
  {
   "attachments": {},
   "cell_type": "markdown",
   "metadata": {},
   "source": [
    "### Find and plot the scaling relations"
   ]
  },
  {
   "cell_type": "code",
   "execution_count": 14,
   "metadata": {},
   "outputs": [
    {
     "name": "stdout",
     "output_type": "stream",
     "text": [
      "The scaling relation is \n"
     ]
    },
    {
     "data": {
      "text/latex": [
       "$\\displaystyle \\frac{\\Sigma_{tot}^{0.64} T^{1.14} \\Omega^{0.5} \\Sigma^{1.57} q^{0.5}}{\\Sigma_{SFR}^{0.93}}$"
      ],
      "text/plain": [
       "Sigma_tot**0.64*T**1.14*\\Omega**0.5*\\Sigma**1.57*q**0.5/Sigma_SFR**0.93"
      ]
     },
     "execution_count": 14,
     "metadata": {},
     "output_type": "execute_result"
    },
    {
     "data": {
      "image/png": "[encoded data removed]",
      "text/plain": [
       "<Figure size 576x576 with 1 Axes>"
      ]
     },
     "metadata": {
      "needs_background": "light"
     },
     "output_type": "display_data"
    }
   ],
   "source": [
    "s = quantity_string[idx]\n",
    "variables = [(sigmatot, 1), (sigma, 1), (sigmasfr, 1),\n",
    "             (omega, 1), (q, 1), (T, 1)]\n",
    "# quantity to be plotted\n",
    "final_quantity = quantities[idx]\n",
    "# observable to be varied\n",
    "observ = [variables[i][0] for i in range(len(variables))]\n",
    "var = np.linspace(1, 1000, 5000)\n",
    "# plotting the scaling relations\n",
    "plt.figure(figsize=(8, 8))\n",
    "power = []\n",
    "for obs in observ:\n",
    "    variables = [(sigmatot, 1), (sigma, 1), (sigmasfr, 1),\n",
    "                 (omega, 1), (q, 1), (T, 1)]\n",
    "    variables.remove((obs, 1))\n",
    "    final = const + variables\n",
    "    z = final_quantity.subs(final)\n",
    "    zf = [z.evalf(subs={obs: i}) for i in var]\n",
    "    zf = np.array(np.float64(zf))\n",
    "    if idx == 7:\n",
    "        zf = -zf\n",
    "    po = str(np.round(np.float64((diff(log(z), obs)*obs).subs(obs, 1)), 2))\n",
    "    power.append(float(po))\n",
    "    plt.plot(np.log(var), np.log(zf), label='$' +\n",
    "             str(latex(obs))+'$,  slope = '+po)\n",
    "plt.title('Variation of $'+s+'$ with observables')\n",
    "plt.xlabel('$log(Observable)$')\n",
    "plt.ylabel('$log('+s+')$')\n",
    "plt.grid(True, which=\"both\", ls=\"--\")\n",
    "plt.legend()\n",
    "\n",
    "scaling = np.power(observ, power)\n",
    "relation = 1\n",
    "for i in scaling:\n",
    "    relation *= i\n",
    "\n",
    "print('The scaling relation is ')\n",
    "relation\n",
    "# plt.savefig('scal'+s+str(model_no)+let+'.png')"
   ]
  },
  {
   "cell_type": "code",
   "execution_count": 13,
   "metadata": {},
   "outputs": [
    {
     "data": {
      "application/vnd.jupyter.widget-view+json": {
       "model_id": "01889cc9b31745088ed650c11b7f8952",
       "version_major": 2,
       "version_minor": 0
      },
      "text/plain": [
       "HBox(children=(Dropdown(description='Menu 1:', options=('Option A', 'Option B', 'Option C'), value='Option A')…"
      ]
     },
     "metadata": {},
     "output_type": "display_data"
    },
    {
     "data": {
      "application/vnd.jupyter.widget-view+json": {
       "model_id": "d5fef308a8b24b899795602568d937d2",
       "version_major": 2,
       "version_minor": 0
      },
      "text/plain": [
       "Label(value='This is a message displayed at the bottom.')"
      ]
     },
     "metadata": {},
     "output_type": "display_data"
    }
   ],
   "source": [
    "import ipywidgets as widgets\n",
    "from IPython.display import display\n",
    "\n",
    "# Define the available options for the dropdown menus\n",
    "options_menu1 = ['Option A', 'Option B', 'Option C']\n",
    "options_menu2 = {'Option A': ['Option 1', 'Option 2'],\n",
    "                 'Option B': ['Option 2', 'Option 3'],\n",
    "                 'Option C': ['Option 1', 'Option 3']}\n",
    "options_menu3 = {'Option A': ['Choice X'],\n",
    "                 'Option B': ['Choice Y'],\n",
    "                 'Option C': ['Choice Z']}\n",
    "\n",
    "# Create the dropdown widget for menu 1\n",
    "dropdown_menu1 = widgets.Dropdown(options=options_menu1, description='Menu 1:')\n",
    "\n",
    "# Create the dropdown widgets for menu 2 and menu 3, initially empty\n",
    "dropdown_menu2 = widgets.Dropdown(description='Menu 2:')\n",
    "dropdown_menu3 = widgets.Dropdown(description='Menu 3:')\n",
    "\n",
    "# Create a Label widget for the message\n",
    "message_label = widgets.Label(value='This is a message displayed at the bottom.')\n",
    "\n",
    "# Variables to store selected options\n",
    "selected_option1 = None\n",
    "selected_option2 = None\n",
    "selected_option3 = None\n",
    "\n",
    "# Function to update the options in other menus based on the selected value\n",
    "def update_options(change):\n",
    "    global selected_option1, selected_option2, selected_option3\n",
    "\n",
    "    if change['name'] == 'value' and change['new'] is not None:\n",
    "        selected_option = change['new']\n",
    "\n",
    "        # Update options for menu 2 based on menu 1 selection\n",
    "        dropdown_menu2.options = options_menu2[selected_option]\n",
    "\n",
    "        # Update options for menu 3 based on menu 1 selection\n",
    "        dropdown_menu3.options = options_menu3[selected_option]\n",
    "\n",
    "        # Check if \"Option A\" is selected to display or hide the message\n",
    "        if selected_option == 'Option A':\n",
    "            message_label.layout.visibility = 'visible'\n",
    "        else:\n",
    "            message_label.layout.visibility = 'hidden'\n",
    "\n",
    "        # Update selected option variables\n",
    "        selected_option1 = selected_option\n",
    "        selected_option2 = None  # Reset to None when the first dropdown changes\n",
    "        selected_option3 = None  # Reset to None when the first dropdown changes\n",
    "\n",
    "# Observe changes in the dropdown_menu1 and call the update_options function\n",
    "dropdown_menu1.observe(update_options)\n",
    "\n",
    "# Observe changes in the other dropdown menus and update the selected_option variables\n",
    "# def update_selected_option2(change):\n",
    "#     global selected_option2\n",
    "#     if change['name'] == 'value' and change['new'] is not None:\n",
    "#         selected_option2 = change['new']\n",
    "\n",
    "# def update_selected_option3(change):\n",
    "#     global selected_option3\n",
    "#     if change['name'] == 'value' and change['new'] is not None:\n",
    "#         selected_option3 = change['new']\n",
    "\n",
    "# dropdown_menu2.observe(update_selected_option2)\n",
    "# dropdown_menu3.observe(update_selected_option3)\n",
    "\n",
    "# Create an HBox container to hold the dropdown menus side by side\n",
    "dropdowns_hbox = widgets.HBox([dropdown_menu1, dropdown_menu2, dropdown_menu3])\n",
    "\n",
    "# Display the widgets\n",
    "display(dropdowns_hbox, message_label)\n",
    "\n"
   ]
  },
  {
   "cell_type": "code",
   "execution_count": 14,
   "metadata": {},
   "outputs": [
    {
     "data": {
      "application/vnd.jupyter.widget-view+json": {
       "model_id": "301fd8b7af5046e397f1877ddf7e1331",
       "version_major": 2,
       "version_minor": 0
      },
      "text/plain": [
       "interactive(children=(Dropdown(description='h', options=('subsonic', 'supersonic', 'cs/omega'), value='subsoni…"
      ]
     },
     "execution_count": 14,
     "metadata": {},
     "output_type": "execute_result"
    }
   ],
   "source": [
    "def myf(h, l, u, t, alpha):\n",
    "    return h, l, u, t, alpha\n",
    "\n",
    "\n",
    "y = interactive(myf, h=[r'subsonic', r'supersonic', r'cs/omega'],\n",
    "                l=[r'maximum scale driven', r'supernovae driven'],\n",
    "                u=[r'sound speed', r'supenovae driven'],\n",
    "                t=[r'eddy turnover time', r'supernovae renovation time'],\n",
    "                alpha=['regime 1', 'regime 2', 'regime 3'])#regime\n",
    "y"
   ]
  },
  {
   "cell_type": "code",
   "execution_count": 15,
   "metadata": {},
   "outputs": [
    {
     "data": {
      "application/vnd.jupyter.widget-view+json": {
       "model_id": "f2c1074bbdf04e9b9c62f7714da47f8a",
       "version_major": 2,
       "version_minor": 0
      },
      "text/plain": [
       "HBox(children=(Dropdown(description='Regime for l:', options=('maximum scale driven', 'supernovae driven'), va…"
      ]
     },
     "metadata": {},
     "output_type": "display_data"
    },
    {
     "data": {
      "application/vnd.jupyter.widget-view+json": {
       "model_id": "f6cb7c1b5ac046bfa8722227c9f541cd",
       "version_major": 2,
       "version_minor": 0
      },
      "text/plain": [
       "Label(value='This is a message displayed at the bottom.')"
      ]
     },
     "metadata": {},
     "output_type": "display_data"
    }
   ],
   "source": [
    "import ipywidgets as widgets\n",
    "from IPython.display import display\n",
    "\n",
    "# Define the available options for the dropdown menus\n",
    "options_l = [r'maximum scale driven', r'supernovae driven']\n",
    "options_u = [r'sound speed', r'supenovae driven']\n",
    "options_h= {r'sound speed': [r'subsonic', r'supersonic',],\n",
    "                 r'supernovae driven': [r'supersonic', r'cs/omega']}\n",
    "# options_menu3 = {'Option A': ['Choice X'],\n",
    "#                  'Option B': ['Choice Y'],\n",
    "#                  'Option C': ['Choice Z']}\n",
    "\n",
    "# Create the dropdown widget for menu 1\n",
    "dropdown_menu1 = widgets.Dropdown(options=options_l, description='Regime for l:')\n",
    "\n",
    "# Create the dropdown widgets for menu 2 and menu 3, initially empty\n",
    "dropdown_menu2 = widgets.Dropdown(options=options_u, description='Regime for u:')\n",
    "dropdown_menu3 = widgets.Dropdown(description='Menu 3:')\n",
    "\n",
    "# Create a Label widget for the message\n",
    "message_label = widgets.Label(value='This is a message displayed at the bottom.')\n",
    "\n",
    "# Variables to store selected options\n",
    "selected_option1 = None\n",
    "selected_option2 = None\n",
    "selected_option3 = None\n",
    "\n",
    "# Function to update the options in other menus based on the selected value\n",
    "def update_options(change):\n",
    "    global selected_option1, selected_option2, selected_option3\n",
    "\n",
    "    if change['name'] == 'value' and change['new'] is not None:\n",
    "        selected_option = change['new']\n",
    "\n",
    "        # Update options for menu 2 based on menu 1 selection\n",
    "        #dropdown_menu2.options = options_menu2[selected_option]\n",
    "\n",
    "        # Update options for menu 3 based on menu 1 selection\n",
    "        \n",
    "\n",
    "        # Check if \"Option A\" is selected to display or hide the message\n",
    "        if selected_option == 'Option A':\n",
    "            message_label.layout.visibility = 'visible'\n",
    "        else:\n",
    "            message_label.layout.visibility = 'hidden'\n",
    "\n",
    "        # Update selected option variables\n",
    "        selected_option1 = selected_option #selected_option\n",
    "        selected_option2 = None  # Reset to None when the first dropdown changes\n",
    "        selected_option3 = None  # Reset to None when the first dropdown changes\n",
    "\n",
    "# Observe changes in the dropdown_menu1 and call the update_options function\n",
    "dropdown_menu1.observe(update_options)\n",
    "\n",
    "# Observe changes in the other dropdown menus and update the selected_option variables\n",
    "def update_selected_option2(change):\n",
    "    global selected_option2\n",
    "    if change['name'] == 'value' and change['new'] is not None:\n",
    "        selected_option = change['new']\n",
    "        #print(selected_option)\n",
    "        dropdown_menu3.options = options_h[selected_option]\n",
    "        # Update selected option variables\n",
    "        selected_option1 = selected_option1 #selected_option\n",
    "        selected_option2 = selected_option  # Reset to None when the first dropdown changes\n",
    "        selected_option3 = None  # Reset to None when the first dropdown changes\n",
    "        \n",
    "\n",
    " \n",
    "\n",
    "# def update_selected_option3(change):\n",
    "#     global selected_option3\n",
    "#     if change['name'] == 'value' and change['new'] is not None:\n",
    "#         selected_option3 = change['new']\n",
    "\n",
    "dropdown_menu2.observe(update_selected_option2)\n",
    "#dropdown_menu3.observe(update_selected_option3)\n",
    "\n",
    "# Create an HBox container to hold the dropdown menus side by side\n",
    "dropdowns_hbox = widgets.HBox([dropdown_menu1, dropdown_menu2, dropdown_menu3])\n",
    "#dropdowns_vbox = widgets.HBox([dropdown_menu1, dropdown_menu2, dropdown_menu3])\n",
    "\n",
    "# Display the widgets\n",
    "display(dropdowns_hbox, message_label)\n",
    "#display(dropdowns_vbox, message_label)\n",
    "\n"
   ]
  },
  {
   "cell_type": "code",
   "execution_count": 16,
   "metadata": {},
   "outputs": [
    {
     "data": {
      "application/vnd.jupyter.widget-view+json": {
       "model_id": "96390981c41b427c9a0a980d6a5c26de",
       "version_major": 2,
       "version_minor": 0
      },
      "text/plain": [
       "HBox(children=(Button(description='Model 1', style=ButtonStyle()),), layout=Layout(justify_content='center'))"
      ]
     },
     "metadata": {},
     "output_type": "display_data"
    },
    {
     "data": {
      "application/vnd.jupyter.widget-view+json": {
       "model_id": "8419665dd8b0446896edb63be0e59b03",
       "version_major": 2,
       "version_minor": 0
      },
      "text/plain": [
       "HBox(children=(Button(description='Model 2a', style=ButtonStyle()), Button(description='Model 2b', style=Butto…"
      ]
     },
     "metadata": {},
     "output_type": "display_data"
    },
    {
     "data": {
      "application/vnd.jupyter.widget-view+json": {
       "model_id": "5b8851aab37d47c899188c1809caee92",
       "version_major": 2,
       "version_minor": 0
      },
      "text/plain": [
       "HBox(children=(Button(description='Model 3a', style=ButtonStyle()), Button(description='Model 3b', style=Butto…"
      ]
     },
     "metadata": {},
     "output_type": "display_data"
    },
    {
     "data": {
      "application/vnd.jupyter.widget-view+json": {
       "model_id": "460e74a6c747464babb0083381e46367",
       "version_major": 2,
       "version_minor": 0
      },
      "text/plain": [
       "Output()"
      ]
     },
     "metadata": {},
     "output_type": "display_data"
    }
   ],
   "source": [
    "import ipywidgets as widgets\n",
    "from IPython.display import display, clear_output, Latex\n",
    "\n",
    "output = widgets.Output()\n",
    "\n",
    "quantity_buttons = [widgets.Button(description=f\"{quants}\") for quants in ['h', 'l', 'u', 'tau',\n",
    "                   'biso', 'bani', 'Bbar', 'tanpB', 'tanpb']]\n",
    "def button_clicked(model_number):\n",
    "    with output:\n",
    "        clear_output(wait=True)\n",
    "        print(f\"                                               Model {model_number} is selected!\")\n",
    "        print(\"                           Select the Quatity for which the scaling relation needs to be found\")\n",
    "        model_no = int(model_number[0])\n",
    "        let = model_number[1]\n",
    "        box_row4 = widgets.HBox(quantity_buttons, layout=widgets.Layout(justify_content='center'))\n",
    "        display(box_row4)\n",
    "        if model_no == 1:\n",
    "            quantities = model_gen(model_no) \n",
    "        else:\n",
    "            quantities = model_gen(model_no, let)\n",
    "        print(quantities[0])\n",
    "        \n",
    "    def quant_button(quantity_name):\n",
    "        with output:\n",
    "            print(f\"Quantity {quantity_name} is selected!\")\n",
    "\n",
    "    for button in quantity_buttons:\n",
    "        button.on_click(lambda event, button=button: quant_button(str(button.description.split()[-1])))\n",
    "\n",
    "\n",
    "        \n",
    "\n",
    "# Create the buttons\n",
    "buttons_row1 = [widgets.Button(description=f\"Model {model_number}\") for model_number in range(1, 2)]\n",
    "buttons_row2 = [widgets.Button(description=f\"Model {model_number}\") for model_number in ['2a', '2b']]\n",
    "buttons_row3 = [widgets.Button(description=f\"Model {model_number}\") for model_number in ['3a', '3b', '3c', '3d']]\n",
    "\n",
    "# Set the click event for each button\n",
    "for button in buttons_row1 + buttons_row2 + buttons_row3:\n",
    "    button.on_click(lambda event, button=button: button_clicked(str(button.description.split()[-1])))\n",
    "\n",
    "# Create widget containers for the buttons and center align them\n",
    "box_row1 = widgets.HBox(buttons_row1, layout=widgets.Layout(justify_content='center'))\n",
    "box_row2 = widgets.HBox(buttons_row2, layout=widgets.Layout(justify_content='center'))\n",
    "box_row3 = widgets.HBox(buttons_row3, layout=widgets.Layout(justify_content='center'))\n",
    "\n",
    "# Display the buttons\n",
    "display(box_row1, box_row2, box_row3, output)\n"
   ]
  },
  {
   "cell_type": "code",
   "execution_count": null,
   "metadata": {},
   "outputs": [],
   "source": []
  }
 ],
 "metadata": {
  "kernelspec": {
   "display_name": "Python 3",
   "language": "python",
   "name": "python3"
  },
  "language_info": {
   "codemirror_mode": {
    "name": "ipython",
    "version": 3
   },
   "file_extension": ".py",
   "mimetype": "text/x-python",
   "name": "python",
   "nbconvert_exporter": "python",
   "pygments_lexer": "ipython3",
   "version": "3.7.3"
  },
  "orig_nbformat": 4
 },
 "nbformat": 4,
 "nbformat_minor": 2
}
